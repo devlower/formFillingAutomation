{
 "cells": [
  {
   "cell_type": "code",
   "execution_count": 133,
   "metadata": {},
   "outputs": [],
   "source": [
    "# Imports\n",
    "from selenium import webdriver\n",
    "from time import sleep\n",
    "from selenium.webdriver.common.keys import Keys\n",
    "from selenium.webdriver.chrome.service import Service\n",
    "from selenium.webdriver.chrome.options import Options\n",
    "from webdriver_manager.chrome import ChromeDriverManager\n",
    "from selenium.webdriver.common.by import By\n",
    "from selenium.webdriver.support.ui import WebDriverWait\n",
    "from selenium.webdriver.support import expected_conditions as EC\n",
    "import undetected_chromedriver.v2 as uc\n",
    "from selenium.webdriver.common.action_chains import ActionChains\n",
    "import re"
   ]
  },
  {
   "cell_type": "code",
   "execution_count": 134,
   "metadata": {},
   "outputs": [],
   "source": [
    "chrome_options = uc.ChromeOptions()\n",
    "chrome_options.add_argument(\"--start-maximized\")\n",
    "chrome_options.add_argument(\"--disable-extensions\")\n",
    "chrome_options.add_argument(\"--disable-popup-blocking\")\n",
    "chrome_options.add_argument(\"--profile-directory=Default\")\n",
    "chrome_options.add_argument(\"--disable-plugins-discovery\")"
   ]
  },
  {
   "cell_type": "code",
   "execution_count": null,
   "metadata": {},
   "outputs": [],
   "source": [
    "PASSWORD = 'yourGoogleAccountPassword'\n",
    "USER = 'yourGoogleAccountUser@gmail.com'"
   ]
  },
  {
   "cell_type": "code",
   "execution_count": 135,
   "metadata": {},
   "outputs": [],
   "source": [
    "browser = uc.Chrome(options=chrome_options)\n",
    "browser.delete_all_cookies()\n",
    "browser.get(\"https://pesquisa.codigofonte.com.br/2022\")\n",
    "wait = WebDriverWait(browser, 10)"
   ]
  },
  {
   "cell_type": "code",
   "execution_count": 136,
   "metadata": {},
   "outputs": [],
   "source": [
    "# Click on take research\n",
    "wait.until(EC.presence_of_element_located((By.XPATH, \"//div[@class='cdfTV__sc-1wbdw36-0 duuziW']//button[@class='cdfTV__sc-cwtsen-6 fYMXtV']\"))).click()"
   ]
  },
  {
   "cell_type": "code",
   "execution_count": 137,
   "metadata": {},
   "outputs": [],
   "source": [
    "# Did you take previous research?\n",
    "browser.switch_to.window(browser.window_handles[1])\n",
    "wait.until(EC.element_to_be_clickable((By.XPATH, \"//div[@class='XfpsVe J9fJmf']//span[contains(text(), 'fazer login') and @class='RveJvd snByac']\"))).click()"
   ]
  },
  {
   "cell_type": "code",
   "execution_count": 138,
   "metadata": {},
   "outputs": [],
   "source": [
    "browser.switch_to.window(browser.window_handles[1])\n",
    "browser.find_element(By.XPATH, \"//input[@id='identifierId']\").send_keys(USER)\n",
    "browser.find_element(By.XPATH, \"//span[contains(text(), 'Next') and @class='VfPpkd-vQzf8d']\").click()\n"
   ]
  },
  {
   "cell_type": "code",
   "execution_count": 139,
   "metadata": {},
   "outputs": [],
   "source": [
    "browser.switch_to.window(browser.window_handles[1])\n",
    "element = wait.until(EC.element_to_be_clickable((By.XPATH, \"//input[@class='whsOnd zHQkBf' and @name='Passwd']\")))\n",
    "sleep(2)\n",
    "element.send_keys(PASSWORD)\n",
    "browser.find_element(By.XPATH, \"//span[contains(text(), 'Next') and @class='VfPpkd-vQzf8d']\").click()"
   ]
  },
  {
   "cell_type": "code",
   "execution_count": 140,
   "metadata": {},
   "outputs": [],
   "source": [
    "wait = WebDriverWait(browser, 120)\n",
    "browser.switch_to.window(browser.window_handles[1])\n",
    "wait.until(EC.element_to_be_clickable((By.XPATH, \"//div[@id='i5']//div[@class='AB7Lab Id5V1']\"))).click()\n",
    "browser.find_element(By.XPATH, \"//div[@id='i21']//div[@class='AB7Lab Id5V1']\").click()\n",
    "browser.find_element(By.XPATH, \"//div[@id='i49']//div[@class='AB7Lab Id5V1']\").click()\n",
    "browser.find_element(By.XPATH, \"//div[@id='i89']//div[@class='AB7Lab Id5V1']\").click()\n",
    "browser.find_element(By.XPATH, \"//div[@class='lRwqcd']//span[@class='NPEfkd RveJvd snByac']\").click()\n",
    "wait = WebDriverWait(browser, 10)"
   ]
  },
  {
   "cell_type": "code",
   "execution_count": 141,
   "metadata": {},
   "outputs": [],
   "source": [
    "browser.switch_to.window(browser.window_handles[1])\n",
    "# wait.until(EC.presence_of_element_located((By.XPATH, \"//div[@class='Qr7Oae']//div[@class='MocG8c HZ3kWc mhLiyf LMgvRb KKjvXb DEh1R'][1]\"))).click()\n",
    "actions = ActionChains(browser)\n",
    "sleep(2)\n",
    "actions.send_keys(Keys.TAB)\n",
    "actions.perform()\n",
    "sleep(2)\n",
    "actions.send_keys(Keys.TAB)\n",
    "actions.perform()\n",
    "sleep(2)\n",
    "actions.send_keys(Keys.TAB)\n",
    "actions.perform()\n",
    "sleep(2)\n",
    "actions.send_keys(Keys.RETURN)\n",
    "actions.perform()\n",
    "sleep(2)\n",
    "actions.send_keys('Python')\n",
    "actions.perform()\n",
    "sleep(2)\n",
    "actions.send_keys(Keys.RETURN)\n",
    "actions.perform()\n",
    "sleep(2)\n",
    "actions.send_keys(Keys.TAB)\n",
    "actions.perform()\n",
    "sleep(2)\n",
    "actions.send_keys(Keys.RETURN)\n",
    "actions.perform()\n",
    "sleep(2)\n",
    "actions.send_keys('Selenium')\n",
    "actions.perform()\n",
    "sleep(2)\n",
    "actions.send_keys(Keys.RETURN)\n",
    "actions.perform()\n",
    "# browser.find_element(By.XPATH, \"//span[contains(text(), 'Python')]\").click()"
   ]
  },
  {
   "cell_type": "code",
   "execution_count": 142,
   "metadata": {},
   "outputs": [],
   "source": [
    "# browser.switch_to.window(browser.window_handles[1])\n",
    "# wait.until(EC.presence_of_element_located((By.XPATH, \"//div[@class='MocG8c HZ3kWc mhLiyf LMgvRb KKjvXb DEh1R']/span[@class='vRMGwf oJeWuf'][1]\"))).click()\n",
    "# sleep(10)\n",
    "# actions = ActionChains(browser)\n",
    "# element = wait.until(EC.presence_of_element_located((By.XPATH, '//span[contains(text(), \"Angular\")]')))\n",
    "# actions.move_to_element(element).perform()\n"
   ]
  },
  {
   "cell_type": "code",
   "execution_count": 143,
   "metadata": {},
   "outputs": [],
   "source": [
    "browser.switch_to.window(browser.window_handles[1])\n",
    "browser.find_element(By.XPATH, \"//div[@id='i13']//div[@class='AB7Lab Id5V1']\").click()\n",
    "browser.find_element(By.XPATH, \"//div[@class='lRwqcd']//span[contains(text(), 'Próxima') and @class='NPEfkd RveJvd snByac']\").click()"
   ]
  },
  {
   "cell_type": "code",
   "execution_count": 144,
   "metadata": {},
   "outputs": [],
   "source": [
    "browser.switch_to.window(browser.window_handles[1])\n",
    "wait.until(EC.element_to_be_clickable((By.XPATH, \"//input[@class='whsOnd zHQkBf']\"))).send_keys('3.500,00')\n",
    "browser.find_element(By.XPATH, \"//div[@id='i46']//div[@class='uHMk6b fsHoPb']\").click()\n",
    "browser.find_element(By.XPATH, \"//div[@id='i62']//div[@class='vd3tt']\").click()\n",
    "browser.find_element(By.XPATH, \"//div[@id='i72']//div[@class='AB7Lab Id5V1']\").click()\n",
    "browser.find_element(By.XPATH, \"//div[@id='i142']//div[@class='AB7Lab Id5V1']\").click()\n",
    "browser.find_element(By.XPATH, \"//div[@id='i152']//div[@class='AB7Lab Id5V1']\").click()\n",
    "browser.find_element(By.XPATH, \"//div[@id='i162']//div[@class='AB7Lab Id5V1']\").click()\n",
    "browser.find_element(By.XPATH, \"//div[@id='i172']//div[@class='AB7Lab Id5V1']\").click()\n",
    "browser.find_element(By.XPATH, \"//div[@id='i179']//div[@class='AB7Lab Id5V1']\").click()\n",
    "browser.find_element(By.XPATH, \"//div[@id='i192']//div[@class='AB7Lab Id5V1']\").click()\n",
    "browser.find_element(By.XPATH, \"//div[@class='lRwqcd']//span[contains(text(), 'Próxima') and @class='NPEfkd RveJvd snByac']\").click()"
   ]
  },
  {
   "cell_type": "code",
   "execution_count": 145,
   "metadata": {},
   "outputs": [],
   "source": [
    "browser.switch_to.window(browser.window_handles[1])\n",
    "wait.until(EC.element_to_be_clickable((By.XPATH, \"//div[@id='i8']//div[@class='AB7Lab Id5V1']\"))).click()\n",
    "browser.find_element(By.XPATH, \"//div[@id='i21']//div[@class='AB7Lab Id5V1']\").click()\n",
    "browser.find_element(By.XPATH, \"//div[@class='lRwqcd']//span[contains(text(), 'Próxima') and @class='NPEfkd RveJvd snByac']\").click()"
   ]
  },
  {
   "cell_type": "code",
   "execution_count": 146,
   "metadata": {},
   "outputs": [],
   "source": [
    "browser.switch_to.window(browser.window_handles[1])\n",
    "sleep(1)\n",
    "wait.until(EC.element_to_be_clickable((By.XPATH, \"//div[@id='i8']//div[@class='AB7Lab Id5V1']\"))).click()\n",
    "browser.find_element(By.XPATH, \"//div[@id='i24']//div[@class='AB7Lab Id5V1']\").click()\n",
    "browser.find_element(By.XPATH, \"//div[@id='i52']//div[@class='AB7Lab Id5V1']\").click()\n",
    "browser.find_element(By.XPATH, \"//div[@id='i59']//div[@class='AB7Lab Id5V1']\").click()\n",
    "browser.find_element(By.XPATH, \"//div[@id='i72']//div[@class='AB7Lab Id5V1']\").click()\n",
    "browser.find_element(By.XPATH, \"//div[@id='i88']//div[@class='AB7Lab Id5V1']\").click()\n",
    "browser.find_element(By.XPATH, \"//div[@id='i107']//div[@class='AB7Lab Id5V1']\").click()\n",
    "browser.find_element(By.XPATH, \"//div[@id='i153']//div[@class='AB7Lab Id5V1']\").click()\n",
    "browser.find_element(By.XPATH, \"//div[@class='lRwqcd']//span[contains(text(), 'Próxima') and @class='NPEfkd RveJvd snByac']\").click()"
   ]
  },
  {
   "cell_type": "code",
   "execution_count": 147,
   "metadata": {},
   "outputs": [],
   "source": [
    "browser.switch_to.window(browser.window_handles[1])\n",
    "wait.until(EC.element_to_be_clickable((By.XPATH, \"//div[@id='i14']//div[@class='AB7Lab Id5V1']\"))).click()\n",
    "browser.find_element(By.XPATH, \"//div[@id='i30']//div[@class='AB7Lab Id5V1']\").click()\n",
    "browser.find_element(By.XPATH, \"//div[@class='lRwqcd']//span[contains(text(), 'Próxima') and @class='NPEfkd RveJvd snByac']\").click()"
   ]
  },
  {
   "cell_type": "code",
   "execution_count": 148,
   "metadata": {},
   "outputs": [],
   "source": [
    "comment = 'Os salários de programadores no Brasil variam amplamente por fatores como localização, empresa, habilidades e senioridade. Há um aumento na demanda e na remuneração nos últimos anos, mas ainda existe desigualdade salarial. Além do salário, benefícios e oportunidades de crescimento profissional também são importantes a se considerar na escolha da carreira.'"
   ]
  },
  {
   "cell_type": "code",
   "execution_count": 149,
   "metadata": {},
   "outputs": [],
   "source": [
    "browser.switch_to.window(browser.window_handles[1])\n",
    "wait.until(EC.element_to_be_clickable((By.XPATH, \"//textarea[@class='KHxj8b tL9Q4c']\"))).send_keys(comment)\n",
    "browser.find_element(By.XPATH, \"//span[contains(text(), 'Enviar')]\").click()"
   ]
  }
 ],
 "metadata": {
  "kernelspec": {
   "display_name": "Python 3",
   "language": "python",
   "name": "python3"
  },
  "language_info": {
   "codemirror_mode": {
    "name": "ipython",
    "version": 3
   },
   "file_extension": ".py",
   "mimetype": "text/x-python",
   "name": "python",
   "nbconvert_exporter": "python",
   "pygments_lexer": "ipython3",
   "version": "3.11.1"
  },
  "orig_nbformat": 4,
  "vscode": {
   "interpreter": {
    "hash": "5e9fdd2dbb3f77ec583eee8f1a6a32159981d7c1eb44b633a0da64d5071c09b3"
   }
  }
 },
 "nbformat": 4,
 "nbformat_minor": 2
}
